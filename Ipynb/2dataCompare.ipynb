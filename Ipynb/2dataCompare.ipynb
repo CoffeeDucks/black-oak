{
 "cells": [
  {
   "cell_type": "code",
   "execution_count": 2,
   "id": "01f0a1c3-6119-4ede-8c12-f5f90ff31506",
   "metadata": {},
   "outputs": [],
   "source": [
    "import os\n",
    "import pandas as pd\n",
    "import datetime"
   ]
  },
  {
   "cell_type": "code",
   "execution_count": 3,
   "id": "62e84741-e1be-4cc9-ba3c-eae987ced336",
   "metadata": {},
   "outputs": [],
   "source": [
    "path_0 = \"../data/\"\n",
    "path_1 = \"../data1/\""
   ]
  },
  {
   "cell_type": "code",
   "execution_count": 9,
   "id": "0632390c",
   "metadata": {},
   "outputs": [
    {
     "data": {
      "text/plain": [
       "(22, 28)"
      ]
     },
     "execution_count": 9,
     "metadata": {},
     "output_type": "execute_result"
    }
   ],
   "source": [
    "file_list_0 = os.listdir(path_0)\n",
    "file_list_1 = os.listdir(path_1)\n",
    "len(file_list_0), len(file_list_1)"
   ]
  },
  {
   "cell_type": "code",
   "execution_count": null,
   "id": "d7dffd5e",
   "metadata": {},
   "outputs": [],
   "source": [
    "df=pd.read_csv(path+file, names=['datetime', 'open', 'high', 'low', 'close', 'volume'])\n",
    "df['datetime']=df['datetime'].apply(lambda x: datetime.datetime.utcfromtimestamp(int(x/1000)))"
   ]
  }
 ],
 "metadata": {
  "kernelspec": {
   "display_name": "Python 3.9.13 ('base')",
   "language": "python",
   "name": "python3"
  },
  "language_info": {
   "codemirror_mode": {
    "name": "ipython",
    "version": 3
   },
   "file_extension": ".py",
   "mimetype": "text/x-python",
   "name": "python",
   "nbconvert_exporter": "python",
   "pygments_lexer": "ipython3",
   "version": "3.9.13"
  },
  "vscode": {
   "interpreter": {
    "hash": "40d3a090f54c6569ab1632332b64b2c03c39dcf918b08424e98f38b5ae0af88f"
   }
  }
 },
 "nbformat": 4,
 "nbformat_minor": 5
}
