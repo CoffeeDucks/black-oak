{
 "cells": [
  {
   "cell_type": "code",
   "execution_count": 1,
   "metadata": {},
   "outputs": [],
   "source": [
    "import requests\n",
    "from bs4 import BeautifulSoup"
   ]
  },
  {
   "cell_type": "markdown",
   "metadata": {},
   "source": [
    "# Binance"
   ]
  },
  {
   "cell_type": "markdown",
   "metadata": {},
   "source": [
    "### Layer 1 & Layer 2\n"
   ]
  },
  {
   "cell_type": "code",
   "execution_count": 82,
   "metadata": {},
   "outputs": [],
   "source": [
    "url = \"https://www.binance.com/en/markets/coinInfo-Layer1_Layer2\"\n",
    "\n",
    "response = requests.get(url)\n",
    "\n",
    "symbols_layer1_layer2 = []\n",
    "\n",
    "if response.status_code == 200:\n",
    "    html = response.text\n",
    "    soup = BeautifulSoup(html, 'html.parser')\n",
    "    columns =soup.select(\"#tabContainer > div.css-72ldqd > div.css-qbmpwo > div > div.css-1vuj9rf > div.css-vlibs4\")\n",
    "    for column in columns:\n",
    "        symbols_layer1_layer2.append(column.select_one(\"div > a > div.css-y492if > div\").text)"
   ]
  },
  {
   "cell_type": "markdown",
   "metadata": {},
   "source": [
    "### MarketCap"
   ]
  },
  {
   "cell_type": "code",
   "execution_count": 3,
   "metadata": {},
   "outputs": [],
   "source": [
    "url = \"https://www.binance.com/en/markets/coinInfo-\"\n",
    "\n",
    "response = requests.get(url)\n",
    "\n",
    "symbols_marketcap = []\n",
    "\n",
    "if response.status_code == 200:\n",
    "    html = response.text\n",
    "    soup = BeautifulSoup(html, 'html.parser')\n",
    "    columns =soup.select(\"#tabContainer > div.css-72ldqd > div.css-qbmpwo > div > div.css-1vuj9rf > div.css-vlibs4\")\n",
    "    for column in columns:\n",
    "        symbols_marketcap.append(column.select_one(\"div > a > div.css-y492if > div\").text)"
   ]
  },
  {
   "cell_type": "markdown",
   "metadata": {},
   "source": [
    "### SPOT"
   ]
  },
  {
   "cell_type": "markdown",
   "metadata": {},
   "source": [
    "#### BUSD - marketcap"
   ]
  },
  {
   "cell_type": "code",
   "execution_count": 85,
   "metadata": {},
   "outputs": [],
   "source": [
    "from selenium import webdriver\n",
    "from selenium.webdriver.support.ui import WebDriverWait\n",
    "from selenium.webdriver.support import expected_conditions as EC\n",
    "from selenium.webdriver.common.by import By\n",
    "import os, time"
   ]
  },
  {
   "cell_type": "code",
   "execution_count": 5,
   "metadata": {},
   "outputs": [
    {
     "name": "stderr",
     "output_type": "stream",
     "text": [
      "/var/folders/0x/3xk_qp_x2xz488l5f9h_cmx00000gn/T/ipykernel_24196/1976801245.py:1: DeprecationWarning: executable_path has been deprecated, please pass in a Service object\n",
      "  driver = webdriver.Chrome(\"/Users/seongil-heo/Workspace/chromedriver\")\n"
     ]
    }
   ],
   "source": [
    "driver = webdriver.Chrome(\"/Users/seongil-heo/Workspace/chromedriver\")\n",
    "driver.implicitly_wait(30) # seconds"
   ]
  },
  {
   "cell_type": "code",
   "execution_count": 6,
   "metadata": {},
   "outputs": [],
   "source": [
    "url = \"https://www.binance.com/en/markets/spot-\"\n",
    "driver.get(url)\n",
    "\n",
    "symbols_spot_BUSD = []\n",
    "\n",
    "btn_marketcap=driver.find_element(By.CSS_SELECTOR, \"#tabContainer > div.css-72ldqd > div.css-qbmpwo > div > div.css-13euu76 > div:nth-child(6) > div > div > div\")\n",
    "down = 0\n",
    "while not down:\n",
    "    try:\n",
    "        driver.find_element(By.ID, \"sorting-down-color-s24_svg__paint0_linear\")\n",
    "        down = 1\n",
    "    except:\n",
    "        btn_marketcap.click()\n",
    "        pass\n",
    "    \n",
    "symbols =driver.find_elements(By.CSS_SELECTOR, \"#market_trade_list_item > div.css-14yoi5o > a > div.css-17wnpgm\")\n",
    "for e in symbols:\n",
    "    symbols_spot_BUSD.append(e.text)\n"
   ]
  },
  {
   "cell_type": "markdown",
   "metadata": {},
   "source": [
    "#### USDT - marketcap"
   ]
  },
  {
   "cell_type": "code",
   "execution_count": 125,
   "metadata": {},
   "outputs": [],
   "source": [
    "url = \"https://www.binance.com/en/markets/spot-USDT\"\n",
    "driver.get(url)\n",
    "\n",
    "symbols_spot_USDT = []\n",
    "\n",
    "btn_marketcap=driver.find_element(By.CSS_SELECTOR, \"#tabContainer > div.css-72ldqd > div.css-qbmpwo > div > div.css-13euu76 > div:nth-child(6) > div > div > div\")\n",
    "down = 0\n",
    "while not down:\n",
    "    try:\n",
    "        driver.find_element(By.ID, \"sorting-down-color-s24_svg__paint0_linear\")\n",
    "        down = 1\n",
    "    except:\n",
    "        btn_marketcap.click()\n",
    "        pass\n",
    "\n",
    "symbols =driver.find_elements(By.CSS_SELECTOR, \"#market_trade_list_item > div.css-14yoi5o > a > div.css-17wnpgm\")\n",
    "for e in symbols:\n",
    "    symbols_spot_USDT.append(e.text)\n"
   ]
  },
  {
   "cell_type": "code",
   "execution_count": 138,
   "metadata": {},
   "outputs": [],
   "source": [
    "driver.quit()"
   ]
  },
  {
   "cell_type": "code",
   "execution_count": 132,
   "metadata": {},
   "outputs": [
    {
     "data": {
      "text/plain": [
       "{'BTTC', 'USDT'}"
      ]
     },
     "execution_count": 132,
     "metadata": {},
     "output_type": "execute_result"
    }
   ],
   "source": [
    "# not SPOT\n",
    "set(symbols_marketcap) - (set(symbols_spot_BUSD) | set(symbols_spot_USDT)) # {'BTTC', 'USDT'}\n"
   ]
  },
  {
   "cell_type": "code",
   "execution_count": 134,
   "metadata": {},
   "outputs": [
    {
     "data": {
      "text/plain": [
       "{'WBTC'}"
      ]
     },
     "execution_count": 134,
     "metadata": {},
     "output_type": "execute_result"
    }
   ],
   "source": [
    "# only BUSD\n",
    "set(symbols_spot_BUSD) - (set(symbols_spot_BUSD) & set(symbols_spot_USDT)) # {'WBTC'}\n"
   ]
  },
  {
   "cell_type": "code",
   "execution_count": 135,
   "metadata": {},
   "outputs": [
    {
     "data": {
      "text/plain": [
       "{'BUSD'}"
      ]
     },
     "execution_count": 135,
     "metadata": {},
     "output_type": "execute_result"
    }
   ],
   "source": [
    "# only spot USDT\n",
    "set(symbols_spot_USDT) - (set(symbols_spot_BUSD) & set(symbols_spot_USDT)) # {'BUSD'}"
   ]
  },
  {
   "cell_type": "markdown",
   "metadata": {},
   "source": [
    "# CoinmarketCap"
   ]
  },
  {
   "cell_type": "code",
   "execution_count": 2,
   "metadata": {},
   "outputs": [],
   "source": [
    "from selenium import webdriver\n",
    "from selenium.webdriver.support.ui import WebDriverWait\n",
    "from selenium.webdriver.support import expected_conditions as EC\n",
    "from selenium.webdriver.common.by import By\n",
    "import os, time"
   ]
  },
  {
   "cell_type": "markdown",
   "metadata": {},
   "source": [
    "### MarketCap"
   ]
  },
  {
   "cell_type": "code",
   "execution_count": 3,
   "metadata": {},
   "outputs": [
    {
     "name": "stderr",
     "output_type": "stream",
     "text": [
      "/var/folders/0x/3xk_qp_x2xz488l5f9h_cmx00000gn/T/ipykernel_30081/1976801245.py:1: DeprecationWarning: executable_path has been deprecated, please pass in a Service object\n",
      "  driver = webdriver.Chrome(\"/Users/seongil-heo/Workspace/chromedriver\")\n"
     ]
    }
   ],
   "source": [
    "driver = webdriver.Chrome(\"/Users/seongil-heo/Workspace/chromedriver\")\n",
    "driver.implicitly_wait(30) # seconds"
   ]
  },
  {
   "cell_type": "code",
   "execution_count": 8,
   "metadata": {},
   "outputs": [],
   "source": [
    "url = \"https://coinmarketcap.com/\"\n",
    "driver.get(url)\n",
    "try:\n",
    "    driver.find_element(By.CSS_SELECTOR, \"body > div.sc-8ukhc-0.ljgYka > div.sc-8ukhc-2.iCMWiP > div.gv-footer > button\").click()\n",
    "    time.sleep(1)\n",
    "except:\n",
    "    pass\n",
    "for i in range(1000,10000,1000):\n",
    "    driver.execute_script(\"window.scrollTo(0,%d)\"%i)\n",
    "    time.sleep(1)\n",
    "\n",
    "symbols_marketcap_CMC = []\n",
    "\n",
    "elements = driver.find_elements(By.CSS_SELECTOR, \"#__next > div > div.main-content > div.sc-4vztjb-0.cLXodu.cmc-body-wrapper > div > div:nth-child(1) > div.h7vnx2-1.bFzXgL > table > tbody > tr > td:nth-child(3) > div > a > div > div > div > p\")\n",
    "for e in elements:\n",
    "    symbols_marketcap_CMC.append(e.text)\n"
   ]
  },
  {
   "cell_type": "markdown",
   "metadata": {},
   "source": [
    "# Coinranking"
   ]
  },
  {
   "cell_type": "markdown",
   "metadata": {},
   "source": [
    "### Layer 1"
   ]
  },
  {
   "cell_type": "code",
   "execution_count": 90,
   "metadata": {},
   "outputs": [],
   "source": [
    "url = \"https://coinranking.com/coins/layer-1\"\n",
    "\n",
    "driver.get(url)\n",
    "\n",
    "symbols_layer1_CR = []\n",
    "\n",
    "elements = driver.find_elements(By.CSS_SELECTOR, \"#__layout > div > div.coins > div:nth-child(3) > table > tbody > tr > td.table__cell.table__cell--3-of-8.table__cell--s-11-of-20 > div > span.profile__name > span > span.profile__subtitle-name\")\n",
    "for e in elements:\n",
    "    symbols_layer1_CR.append(e.text)\n",
    "# HT/BUSD, NXT/BUSD, G/BUSD, ALPH/BUSD, TORI/BUSD not exist"
   ]
  },
  {
   "cell_type": "markdown",
   "metadata": {},
   "source": [
    "### Layer 2"
   ]
  },
  {
   "cell_type": "code",
   "execution_count": 4,
   "metadata": {},
   "outputs": [],
   "source": [
    "\n",
    "url = \"https://coinranking.com/coins/layer-2\"\n",
    "\n",
    "driver.get(url)\n",
    "\n",
    "symbols_layer2_CR = []\n",
    "\n",
    "elements = driver.find_elements(By.CSS_SELECTOR, \"#__layout > div > div.coins > div:nth-child(3) > table > tbody > tr > td.table__cell.table__cell--3-of-8.table__cell--s-11-of-20 > div > span.profile__name > span > span.profile__subtitle-name\")\n",
    "for e in elements:\n",
    "    symbols_layer2_CR.append(e.text)\n",
    "# \"METIS/BUSD\",\n",
    "# \"BOBA/BUSD\",\n",
    "# \"ZKS/BUSD\",\n",
    "# \"AVT/BUSD\",\n",
    "# \"NII/BUSD\",\n",
    "# \"NVIR/BUSD\",\n",
    "# \"CTS/BUSD\",\n",
    "# \"SHT/BUSD\",\n",
    "# \"DVF/BUSD\",\n",
    "# \"ZKSYNC/BUSD\",\n",
    "# \"L2DAO/BUSD\""
   ]
  },
  {
   "cell_type": "code",
   "execution_count": 8,
   "metadata": {},
   "outputs": [
    {
     "data": {
      "text/plain": [
       "14"
      ]
     },
     "execution_count": 8,
     "metadata": {},
     "output_type": "execute_result"
    }
   ],
   "source": [
    "import os\n",
    "len(os.listdir(\"../data_layer1_layer2_BN/data_2y_complete/\"))"
   ]
  },
  {
   "cell_type": "markdown",
   "metadata": {},
   "source": [
    "# Print"
   ]
  },
  {
   "cell_type": "code",
   "execution_count": 128,
   "metadata": {},
   "outputs": [],
   "source": [
    "def print_symbols(symbols_list):\n",
    "    print(\"{0}{1:->23s}({2:>3d}){0}\".format(\"-\"*45,symbols_list[0],len(symbols_list[1])))\n",
    "    for i, symbol in enumerate(symbols_list[1]):\n",
    "        print(\"%2d -%5s\"%(i,symbol), end=\"\\t\")\n",
    "        if i%10 == 9:\n",
    "            print()\n",
    "    print(\"-\"*118)\n",
    "    print()"
   ]
  },
  {
   "cell_type": "code",
   "execution_count": 149,
   "metadata": {},
   "outputs": [
    {
     "name": "stdout",
     "output_type": "stream",
     "text": [
      "---------------------------------------------------Binance Marketcap( 50)---------------------------------------------\n",
      " 0 -  BTC\t 1 -  ETH\t 2 - USDT\t 3 -  BNB\t 4 -  XRP\t 5 - BUSD\t 6 -  ADA\t 7 -  SOL\t 8 - DOGE\t 9 -MATIC\t\n",
      "10 -  DOT\t11 - SHIB\t12 -  TRX\t13 -  UNI\t14 - AVAX\t15 - WBTC\t16 -  LTC\t17 -  ETC\t18 - LINK\t19 - ATOM\t\n",
      "20 -  FTT\t21 -  XLM\t22 - NEAR\t23 -  XMR\t24 - ALGO\t25 -  BCH\t26 - LUNC\t27 - FLOW\t28 -  VET\t29 -  QNT\t\n",
      "30 -  FIL\t31 -  APE\t32 -  ICP\t33 - HBAR\t34 -  XTZ\t35 - MANA\t36 -  CHZ\t37 - EGLD\t38 - SAND\t39 -  EOS\t\n",
      "40 - AAVE\t41 -THETA\t42 -  AXS\t43 -  ZEC\t44 -  MKR\t45 -  XEC\t46 - IOTA\t47 - BTTC\t48 -  HNT\t49 -  GRT\t\n",
      "----------------------------------------------------------------------------------------------------------------------\n",
      "\n",
      "---------------------------------------------------Binance SPOT BUSD( 50)---------------------------------------------\n",
      " 0 - LUNA\t 1 -  BTC\t 2 -  ETH\t 3 -  BNB\t 4 -  XRP\t 5 -  ADA\t 6 -  SOL\t 7 - DOGE\t 8 -MATIC\t 9 -  DOT\t\n",
      "10 - SHIB\t11 -  TRX\t12 -  UNI\t13 - AVAX\t14 - WBTC\t15 -  LTC\t16 -  ETC\t17 - LINK\t18 - ATOM\t19 -  FTT\t\n",
      "20 -  XLM\t21 - NEAR\t22 -  XMR\t23 - ALGO\t24 -  BCH\t25 - LUNC\t26 - FLOW\t27 -  VET\t28 -  QNT\t29 -  FIL\t\n",
      "30 -  APE\t31 -  ICP\t32 - HBAR\t33 - MANA\t34 -  XTZ\t35 -  CHZ\t36 - SAND\t37 - EGLD\t38 -  EOS\t39 - AAVE\t\n",
      "40 -THETA\t41 -  AXS\t42 -  ZEC\t43 -  MKR\t44 -  XEC\t45 - IOTA\t46 -  GRT\t47 -  HNT\t48 - CAKE\t49 -  NEO\t\n",
      "----------------------------------------------------------------------------------------------------------------------\n",
      "\n",
      "---------------------------------------------------Binance SPOT USDT( 50)---------------------------------------------\n",
      " 0 - LUNA\t 1 -  BTC\t 2 -  ETH\t 3 -  BNB\t 4 -  XRP\t 5 - BUSD\t 6 -  ADA\t 7 -  SOL\t 8 - DOGE\t 9 -MATIC\t\n",
      "10 -  DOT\t11 - SHIB\t12 -  TRX\t13 -  UNI\t14 - AVAX\t15 -  LTC\t16 -  ETC\t17 - LINK\t18 - ATOM\t19 -  FTT\t\n",
      "20 -  XLM\t21 - NEAR\t22 -  XMR\t23 - ALGO\t24 -  BCH\t25 - LUNC\t26 - FLOW\t27 -  VET\t28 -  QNT\t29 -  APE\t\n",
      "30 -  FIL\t31 -  ICP\t32 - HBAR\t33 -  XTZ\t34 - MANA\t35 -  CHZ\t36 - SAND\t37 - EGLD\t38 -  EOS\t39 - AAVE\t\n",
      "40 -THETA\t41 -  AXS\t42 -  ZEC\t43 -  MKR\t44 -  XEC\t45 - IOTA\t46 -  GRT\t47 -  HNT\t48 - CAKE\t49 -  NEO\t\n",
      "----------------------------------------------------------------------------------------------------------------------\n",
      "\n",
      "---------------------------------------------Binance Layer1 & Layer2( 40)---------------------------------------------\n",
      " 0 -  ETH\t 1 -  BNB\t 2 -  ADA\t 3 -  SOL\t 4 -MATIC\t 5 -  DOT\t 6 -  TRX\t 7 - AVAX\t 8 - ATOM\t 9 - NEAR\t\n",
      "10 - ALGO\t11 - LUNC\t12 - FLOW\t13 -  VET\t14 -  ICP\t15 -  XTZ\t16 -  EOS\t17 -  NEO\t18 - KLAY\t19 -  FTM\t\n",
      "20 - KAVA\t21 -WAVES\t22 -  KSM\t23 - CELO\t24 - LUNA\t25 - ROSE\t26 -  KDA\t27 -  ONE\t28 -  OMG\t29 - FLUX\t\n",
      "30 - GLMR\t31 -   OP\t32 -  ONT\t33 - WAXP\t34 -  IMX\t35 -  SKL\t36 - ASTR\t37 -  CKB\t38 -  SSV\t39 - MOVR\t\n",
      "----------------------------------------------------------------------------------------------------------------------\n",
      "\n",
      "---------------------------------------------CoinMarketCap Marketcap(100)---------------------------------------------\n",
      " 0 -  BTC\t 1 -  ETH\t 2 - USDT\t 3 -  BNB\t 4 - USDC\t 5 -  XRP\t 6 - BUSD\t 7 -  ADA\t 8 -  SOL\t 9 - DOGE\t\n",
      "10 -MATIC\t11 -  DOT\t12 -  DAI\t13 - SHIB\t14 -  TRX\t15 -  UNI\t16 - AVAX\t17 - WBTC\t18 -  LEO\t19 -  LTC\t\n",
      "20 -  ETC\t21 - LINK\t22 - ATOM\t23 -  FTT\t24 -  XLM\t25 - NEAR\t26 -  CRO\t27 -  XMR\t28 - ALGO\t29 -  BCH\t\n",
      "30 - LUNC\t31 - FLOW\t32 -  VET\t33 -  TON\t34 -  QNT\t35 -  FIL\t36 -  APE\t37 -  ICP\t38 - HBAR\t39 -  XTZ\t\n",
      "40 - MANA\t41 -  CHZ\t42 - SAND\t43 - EGLD\t44 -  EOS\t45 - AAVE\t46 -THETA\t47 -  AXS\t48 -  BSV\t49 - USDP\t\n",
      "50 -  OKB\t51 -  KCS\t52 - TUSD\t53 -  ZEC\t54 -  MKR\t55 -  XEC\t56 - USDD\t57 -MIOTA\t58 -  BTT\t59 -  HNT\t\n",
      "60 -  GRT\t61 - CAKE\t62 - USDN\t63 -   HT\t64 -  NEO\t65 - KLAY\t66 -  FTM\t67 - PAXG\t68 -  SNX\t69 - RUNE\t\n",
      "70 - NEXO\t71 -  LDO\t72 -  CRV\t73 -   GT\t74 - DASH\t75 -  BAT\t76 -  ENJ\t77 -  STX\t78 - COMP\t79 - KAVA\t\n",
      "80 -  ZIL\t81 -WAVES\t82 -  FEI\t83 -  RVN\t84 - MINA\t85 -  TWT\t86 -  LRC\t87 -  DCR\t88 -  RSR\t89 -  XEM\t\n",
      "90 -  GMT\t91 -  CVX\t92 -  XDC\t93 - CELO\t94 -  KSM\t95 -  BTG\t96 -  ENS\t97 -  HOT\t98 -1INCH\t99 - CSPR\t\n",
      "----------------------------------------------------------------------------------------------------------------------\n",
      "\n",
      "--------------------------------------------------CoinRanking Layer1( 25)---------------------------------------------\n",
      " 0 -  BTC\t 1 -  ETH\t 2 -  BNB\t 3 -  ADA\t 4 -  SOL\t 5 -  DOT\t 6 -  TRX\t 7 - AVAX\t 8 - ATOM\t 9 -  LTC\t\n",
      "10 -  XMR\t11 - ALGO\t12 -  XLM\t13 - NEAR\t14 -  XTZ\t15 - EGLD\t16 -  ZEC\t17 -   HT\t18 -WAVES\t19 - CELO\t\n",
      "20 -  FET\t21 -  NXT\t22 -    G\t23 - ALPH\t24 - TORI\t----------------------------------------------------------------------------------------------------------------------\n",
      "\n",
      "--------------------------------------------------CoinRanking Layer2( 23)---------------------------------------------\n",
      " 0 -MATIC\t 1 -  IMX\t 2 -  SNX\t 3 -  LRC\t 4 -  OMG\t 5 -  ZRX\t 6 -METIS\t 7 - CELR\t 8 - BOBA\t 9 - DYDX\t\n",
      "10 - PERP\t11 -  ZKS\t12 -  GMX\t13 -  AVT\t14 - CTSI\t15 -  NII\t16 - NVIR\t17 -  CTS\t18 -  SHT\t19 -  DVF\t\n",
      "20 -ZKSYNC\t21 - BEAR\t22 -L2DAO\t----------------------------------------------------------------------------------------------------------------------\n",
      "\n"
     ]
    }
   ],
   "source": [
    "symbols_data = [\n",
    "    [\"Binance Marketcap\",symbols_marketcap],\n",
    "    [\"Binance SPOT BUSD\", symbols_spot_BUSD],\n",
    "    [\"Binance SPOT USDT\", symbols_spot_USDT],\n",
    "    [\"Binance Layer1 & Layer2\",symbols_layer1_layer2],\n",
    "    [\"CoinMarketCap Marketcap\",symbols_marketcap_CMC],\n",
    "    [\"CoinRanking Layer1\",symbols_layer1_CR],\n",
    "    [\"CoinRanking Layer2\",symbols_layer2_CR],\n",
    "]\n",
    "for symbols_list in symbols_data:\n",
    "    print_symbols(symbols_list)"
   ]
  },
  {
   "cell_type": "markdown",
   "metadata": {},
   "source": [
    "# Export Selected Data"
   ]
  },
  {
   "cell_type": "code",
   "execution_count": 5,
   "metadata": {},
   "outputs": [],
   "source": [
    "with open(\"Selected Symbols.txt\", 'w') as f:\n",
    "    for symbol in symbols_layer2_CR:\n",
    "        f.write(\"\\\"%s/BUSD\\\",\\n\"%symbol)"
   ]
  }
 ],
 "metadata": {
  "kernelspec": {
   "display_name": "Python 3.9.13 ('base')",
   "language": "python",
   "name": "python3"
  },
  "language_info": {
   "codemirror_mode": {
    "name": "ipython",
    "version": 3
   },
   "file_extension": ".py",
   "mimetype": "text/x-python",
   "name": "python",
   "nbconvert_exporter": "python",
   "pygments_lexer": "ipython3",
   "version": "3.9.13"
  },
  "orig_nbformat": 4,
  "vscode": {
   "interpreter": {
    "hash": "40d3a090f54c6569ab1632332b64b2c03c39dcf918b08424e98f38b5ae0af88f"
   }
  }
 },
 "nbformat": 4,
 "nbformat_minor": 2
}
