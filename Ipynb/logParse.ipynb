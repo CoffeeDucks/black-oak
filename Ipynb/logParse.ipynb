{
 "cells": [
  {
   "cell_type": "code",
   "execution_count": 1,
   "metadata": {},
   "outputs": [],
   "source": [
    "from colorama import init, Fore\n",
    "import logging\n",
    "import sys\n",
    "import datetime\n",
    "from dateutil.parser import parse\n",
    "import re\n"
   ]
  },
  {
   "cell_type": "code",
   "execution_count": null,
   "metadata": {},
   "outputs": [],
   "source": [
    "\n",
    "init(autoreset=True)\n",
    "\n",
    "log_level = logging.INFO # logging.DEBUG\n"
   ]
  },
  {
   "cell_type": "code",
   "execution_count": null,
   "metadata": {},
   "outputs": [],
   "source": [
    "\n",
    "logging.basicConfig(\n",
    "    stream=sys.stdout,\n",
    "    level=log_level,\n",
    "    format='[%(levelname)s] %(message)s'\n",
    ")\n"
   ]
  },
  {
   "cell_type": "code",
   "execution_count": 2,
   "metadata": {},
   "outputs": [],
   "source": [
    "\n",
    "def extract_units(fetch_log):\n",
    "    units = set()\n",
    "    with open(fetch_log,'r') as f:\n",
    "        while True:\n",
    "            line = f.readline()\n",
    "            if line.startswith(\"[INFO] Started to\"):\n",
    "                pass\n",
    "            else:\n",
    "                break\n",
    "            p = re.compile(\"[A-Z0-9]+/([A-Z0-9]+)\")\n",
    "            patterns =p.search(line)\n",
    "            unit = patterns.groups()[0]\n",
    "            units.add(unit)\n",
    "    return units\n",
    "\n",
    "\n",
    "def extract_repair_log(target):\n",
    "    with open(target) as f:\n",
    "        log_data=f.readlines()\n",
    "    # lo    \n",
    "    log_list = []\n",
    "    for i in range(len(log_data)):\n",
    "        if '\\n' == log_data[i]:\n",
    "            pass\n",
    "        if 'Loading' in log_data[i]:\n",
    "            log_list.append(''.join(log_data[i:i+7]))\n",
    "\n",
    "    log_dict = dict()\n",
    "    for log in log_list:\n",
    "        key=log.split('\\n')[0].split(\"/\")[1].split(\"_\")[1]\n",
    "        log_dict[key] = log[:-1]\n",
    "    return log_dict\n"
   ]
  },
  {
   "cell_type": "code",
   "execution_count": null,
   "metadata": {},
   "outputs": [],
   "source": [
    "\n",
    "def write_toml(symbol, since):\n",
    "    until = \"2022-07-01 00:00:00\"\n",
    "\n",
    "    toml_str=\"\"\"[settings]\n",
    "\n",
    "    debug = false\n",
    "    persistence = \"file\"\n",
    "    append_file = true\n",
    "    proxies = [\n",
    "        \"\"\n",
    "    ]\n",
    "    ratelimit = true\n",
    "\n",
    "    [exchanges]\n",
    "\n",
    "        [exchanges.binance]\n",
    "        filter_symbols = [\"{0}\"]\n",
    "        filter_resolutions = [\"1h\"]\n",
    "        since = \"{1}\"\n",
    "        until = \"{2}\"\n",
    "        limit = 365\"\"\".format(symbol, since, until)\n",
    "\n",
    "    path = \"../toml/\"\n",
    "    file = \"{}+{}.toml\".format(symbol.replace('/',''),since).replace(' ','_')\n",
    "\n",
    "    with open(path+file, \"w\") as f:\n",
    "        f.write(toml_str)\n",
    "    return path+file\n",
    "    \n"
   ]
  },
  {
   "cell_type": "code",
   "execution_count": 3,
   "metadata": {},
   "outputs": [],
   "source": [
    "def make_symbol_format(symbolwo,units):\n",
    "    for unit in units:\n",
    "        if symbolwo.endswith(unit):\n",
    "            return \"%s/%s\"%(symbolwo[:-len(unit)],unit)\n",
    "    return\n"
   ]
  },
  {
   "cell_type": "code",
   "execution_count": 6,
   "metadata": {},
   "outputs": [],
   "source": [
    "\n",
    "def main():\n",
    "    cnt = 0\n",
    "    ms_cnt = 0\n",
    "    ms_symbol = []\n",
    "    units = extract_units(\"../log/data_entire_fetch.log\" )\n",
    "    logging.debug(\"%dec units are collected\"%len(units))\n",
    "    \n",
    "    target=\"../log/data_entire_repair_2.log\"\n",
    "    log_dict = extract_repair_log(target)\n",
    "    \n",
    "    start_point =  \"Date of first data point 2020-07-01 00:00:00\"\n",
    "    last_point = \"2022-07-01 00:00:00\"\n",
    "    missing =  \"Found 0 missing data points (0.0% of the data is missing)\"\n",
    "    good=[]\n",
    "    for k,v in log_dict.items():\n",
    "        status=0\n",
    "        symbol = make_symbol_format(k,units)\n",
    "        if not symbol:\n",
    "            logging.error(\"Cannot change symbol name\")\n",
    "            continue\n",
    "        logging.info(\"Symbol: %s\"%symbol)\n",
    "        lines = v.split('\\n')\n",
    "        \n",
    "        if start_point in lines[2]:\n",
    "            logging.debug(\"Good Start\")\n",
    "            status+=1\n",
    "        else:\n",
    "            logging.debug(\"Late Start\")\n",
    "\n",
    "        if missing in lines[5]:\n",
    "            logging.debug(\"Pass Missing\")\n",
    "            status+=1\n",
    "        else:\n",
    "            logging.debug(\"Missing Data\")\n",
    "            ms_cnt += 1\n",
    "            ms_symbol.append(symbol)\n",
    "            continue\n",
    "\n",
    "        last_str=\" \".join(v.split(\"\\n\")[3].split()[5:])\n",
    "        if parse(last_str) < parse(last_point):\n",
    "            # logging.warn(\"Lack data\")\n",
    "            # file_name = write_toml(symbol,last_str)\n",
    "            # cnt+=1\n",
    "            # logging.info(\"Create toml file to re-fetch data %s\"%file_name,'-'*10)\n",
    "            logging.debug(\"Lack data\")\n",
    "        else:\n",
    "            logging.debug(\"Full data\")\n",
    "            status+=1\n",
    "        if status ==3:\n",
    "            good.append(symbol)\n",
    "        logging.info(\"-\"*80)\n",
    "\n",
    "    # if ms_symbol:\n",
    "    #     with open(\"mssing_symbol.txt\",'w') as f:\n",
    "    #         for ms in ms_symbol:\n",
    "    #             f.write(\"%s\\n\"%ms)\n",
    "\n",
    "        \n",
    "    data_ec  = int(lines[-1].split()[0])\n",
    "    logging.info(\"Data count: %d & mssing data: %d\"%(data_ec,ms_cnt))\n",
    "    return good\n",
    "if __name__ == '__main__':\n",
    "    good=main()\n",
    "    # logging.info(\"%d ec toml fils be created\"%cnt)"
   ]
  },
  {
   "cell_type": "code",
   "execution_count": 8,
   "metadata": {},
   "outputs": [
    {
     "data": {
      "text/plain": [
       "408"
      ]
     },
     "execution_count": 8,
     "metadata": {},
     "output_type": "execute_result"
    }
   ],
   "source": [
    "len(good)"
   ]
  },
  {
   "cell_type": "code",
   "execution_count": null,
   "metadata": {},
   "outputs": [],
   "source": [
    "a"
   ]
  }
 ],
 "metadata": {
  "kernelspec": {
   "display_name": "Python 3.9.13 ('base')",
   "language": "python",
   "name": "python3"
  },
  "language_info": {
   "codemirror_mode": {
    "name": "ipython",
    "version": 3
   },
   "file_extension": ".py",
   "mimetype": "text/x-python",
   "name": "python",
   "nbconvert_exporter": "python",
   "pygments_lexer": "ipython3",
   "version": "3.9.13"
  },
  "orig_nbformat": 4,
  "vscode": {
   "interpreter": {
    "hash": "40d3a090f54c6569ab1632332b64b2c03c39dcf918b08424e98f38b5ae0af88f"
   }
  }
 },
 "nbformat": 4,
 "nbformat_minor": 2
}
