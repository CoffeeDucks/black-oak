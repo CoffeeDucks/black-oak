{
 "cells": [
  {
   "cell_type": "code",
   "execution_count": 2,
   "metadata": {},
   "outputs": [],
   "source": [
    "# Native libraries\n",
    "import os\n",
    "import math\n",
    "# Essential Libraries\n",
    "import pandas as pd\n",
    "import matplotlib.pyplot as plt\n",
    "import numpy as np\n",
    "# Preprocessing\n",
    "from sklearn.preprocessing import MinMaxScaler\n",
    "# Algorithms\n",
    "from minisom import MiniSom\n",
    "from tslearn.barycenters import dtw_barycenter_averaging\n",
    "from tslearn.clustering import TimeSeriesKMeans\n",
    "from sklearn.cluster import KMeans\n",
    "\n",
    "from sklearn.decomposition import PCA"
   ]
  },
  {
   "cell_type": "code",
   "execution_count": 19,
   "metadata": {},
   "outputs": [],
   "source": [
    "directory = '/kaggle/input/retail-and-retailers-sales-time-series-collection/'\n",
    "\n",
    "mySeries = []\n",
    "namesofMySeries = []\n",
    "for filename in os.listdir(directory):\n",
    "    if filename.endswith(\".csv\"):\n",
    "        df = pd.read_csv(directory+filename)\n",
    "        df = df.loc[:,[\"date\",\"value\"]]\n",
    "        # While we are at it I just filtered the columns that we will be working on\n",
    "        df.set_index(\"date\",inplace=True)\n",
    "        # ,set the date columns as index\n",
    "        df.sort_index(inplace=True)\n",
    "        # and lastly, ordered the data according to our date index\n",
    "        mySeries.append(df)\n",
    "        namesofMySeries.append(filename[:-4])"
   ]
  },
  {
   "cell_type": "code",
   "execution_count": 2,
   "metadata": {},
   "outputs": [
    {
     "name": "stdout",
     "output_type": "stream",
     "text": [
      "0\n",
      "9\n"
     ]
    }
   ],
   "source": [
    "a,b=0,10-1\n",
    "for i in (a,b):\n",
    "    print(i)"
   ]
  },
  {
   "cell_type": "code",
   "execution_count": null,
   "metadata": {},
   "outputs": [],
   "source": [
    "A=[]\n",
    "A=input().split() #리스트 저장\n",
    "\n",
    "for i in range(len(A)): #리스트 int로 바꾸기\n",
    "    A[i]=int(A[i])\n",
    "\n",
    "k=(len(A)//3)+1 #피벗은 2개\n",
    "\n",
    "#pivot이 한쪽으로 쏠리는 상황을 방지하기 위해 k개를 먼저 비교한 후 젤 큰수를 pivot으로 선정했다\n",
    "#def find_pivot은 for문이 k번 반복하므로 수행시간은 O(n)이다\n",
    "def find_pivot(a,b): #첫수 와 끝수 입력\n",
    "    currentMax=A[a]\n",
    "    for i in (a,b):\n",
    "        if currentMax < A[i]:\n",
    "            currentMax = A[i]\n",
    "    return currentMax\n",
    "        \n",
    "\n",
    "pivot1=find_pivot(0,k-1) #index 0 부터 k-1까지 k개를 비교해 pivot 선정\n",
    "pivot2=find_pivot(k,k+k) #index k 부터 2k-1까지 k개를 비교해 pivot 선정\n",
    "\n",
    "\n",
    "#pivot1과 pivot2의 단순비교이기 때문에 O(1)이다\n",
    "if pivot1>pivot2: #pivot1과 pivot2 중에 순서 정하기\n",
    "    a=pivot1\n",
    "    pivot1=pivot2\n",
    "    pivot2=a\n",
    "\n",
    "#for문이 n 번 반복하므로 수행시간은 O(n)이다\n",
    "B = C = D = []\n",
    "for x in A:\n",
    "    if x<=pivot1: \n",
    "        B.append(x) #pivot1은 이미 k개를 비교했을때 k번째로 큰수 이기 때문에 k는 무조건 B안에 있다 \n",
    "    elif x <=pivot2: \n",
    "        C.append(x)\n",
    "    else: \n",
    "        D.append(x)\n",
    "\n",
    "j=len(B)-k\n",
    "#젤 큰수를 j번 제거하면 가장 작은수부터 k번째 작은수만 남은 리스트 B가 완성된다\n",
    "#수행시간은 O(n^2)이다\n",
    "for i in range(j): \n",
    "    find_pivot(0,j-1)\n",
    "    B.pop()\n",
    "\n",
    "#최종 M[i]값 찾기\n",
    "final_M=find_pivot(0,k)\n",
    "\n",
    "\n",
    "#M[i]까지 합 구하기\n",
    "#수행시간은 O(n)이다\n",
    "sum=0\n",
    "for i in A:\n",
    "    if i!=final_M:\n",
    "        sum=sum+i\n",
    "    else:\n",
    "        sum=sum+i\n",
    "        break\n",
    "print(sum)\n",
    "\n",
    "#따라서 이 방법의 수행시간은 O(n^2)이다\n",
    "#pivot이 한쪽으로 쏠리는 현상을 방지하기 위해 다른 방식으로 pivot을 설정해  보았다"
   ]
  }
 ],
 "metadata": {
  "kernelspec": {
   "display_name": "Python 3.9.13 ('base')",
   "language": "python",
   "name": "python3"
  },
  "language_info": {
   "codemirror_mode": {
    "name": "ipython",
    "version": 3
   },
   "file_extension": ".py",
   "mimetype": "text/x-python",
   "name": "python",
   "nbconvert_exporter": "python",
   "pygments_lexer": "ipython3",
   "version": "3.9.13"
  },
  "orig_nbformat": 4,
  "vscode": {
   "interpreter": {
    "hash": "40d3a090f54c6569ab1632332b64b2c03c39dcf918b08424e98f38b5ae0af88f"
   }
  }
 },
 "nbformat": 4,
 "nbformat_minor": 2
}
