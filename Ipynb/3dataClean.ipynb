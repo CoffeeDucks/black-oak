{
 "cells": [
  {
   "cell_type": "code",
   "execution_count": 6,
   "id": "79e9b3f3",
   "metadata": {},
   "outputs": [],
   "source": [
    "import os\n",
    "import pandas as pd\n",
    "import datetime\n",
    "from collections import defaultdict"
   ]
  },
  {
   "cell_type": "markdown",
   "id": "1de8d018",
   "metadata": {},
   "source": [
    "# Restore Normal Data"
   ]
  },
  {
   "cell_type": "code",
   "execution_count": 7,
   "id": "8b53be57",
   "metadata": {},
   "outputs": [
    {
     "data": {
      "text/plain": [
       "1"
      ]
     },
     "execution_count": 7,
     "metadata": {},
     "output_type": "execute_result"
    }
   ],
   "source": [
    "with open(\"file_diff_pass.txt\", 'r') as f:\n",
    "    file_diff_pass=[line[:-1] for line in f.readlines()]\n",
    "len(file_diff_pass)"
   ]
  },
  {
   "cell_type": "code",
   "execution_count": 8,
   "id": "0a82adaf",
   "metadata": {},
   "outputs": [],
   "source": [
    "path = \"../data/\"\n",
    "new_path = \"../data_layer2_CR/data_6m_complete/\"\n",
    "\n",
    "file_list = file_diff_pass\n",
    "\n",
    "for file in file_list:\n",
    "    new_file_name = \"_\".join(file.split(\".\")[0].split(\"_\")[:-1]+[\"COMPLETED\"])\n",
    "\n",
    "    df=pd.read_csv(path+file, names=['datetime', 'open', 'high', 'low', 'close', 'volume'])\n",
    "\n",
    "    df.drop_duplicates(\"datetime\",inplace=True)\n",
    "    df=df[df['datetime']<1656633600000]\n",
    "    df.to_csv(new_path+new_file_name+\".csv\")"
   ]
  },
  {
   "cell_type": "markdown",
   "id": "ebce9840",
   "metadata": {},
   "source": [
    "# Remove Completed Files"
   ]
  },
  {
   "cell_type": "code",
   "execution_count": 12,
   "id": "ae561a40",
   "metadata": {},
   "outputs": [],
   "source": [
    "path= \"../data_layer1_layer2_BN/data_2y_complete\"\n",
    "file_list = os.listdir(path)\n",
    "origin_len=len(file_list)"
   ]
  },
  {
   "cell_type": "code",
   "execution_count": 66,
   "id": "f0e85ad7",
   "metadata": {},
   "outputs": [],
   "source": [
    "path = \"../data1/\"\n",
    "file_list = file_diff_pass\n",
    "for file in file_list:\n",
    "    file_origin=\"_\".join(file.split(\".\")[0].split(\"_\")[:-1])+\".csv\"\n",
    "    if os.path.isfile(path+file):\n",
    "        os.remove(path+file)\n",
    "    if os.path.isfile(path+file_origin):\n",
    "        os.remove(path+file_origin)\n",
    "    "
   ]
  },
  {
   "cell_type": "code",
   "execution_count": 70,
   "id": "ae561a40",
   "metadata": {},
   "outputs": [
    {
     "name": "stdout",
     "output_type": "stream",
     "text": [
      "100 -> 56\n"
     ]
    }
   ],
   "source": [
    "path = \"../data1/\"\n",
    "file_list = os.listdir(path)\n",
    "print(\"%d -> %d\"%(origin_len, len(file_list)))"
   ]
  },
  {
   "cell_type": "markdown",
   "id": "40413373",
   "metadata": {},
   "source": [
    "# Remove origin files"
   ]
  },
  {
   "cell_type": "code",
   "execution_count": 71,
   "id": "915868a3",
   "metadata": {},
   "outputs": [
    {
     "name": "stdout",
     "output_type": "stream",
     "text": [
      "56 -> 28\n"
     ]
    }
   ],
   "source": [
    "path = \"../data1/\"\n",
    "file_list = os.listdir(path)\n",
    "origin_len=len(file_list)\n",
    "\n",
    "for file in file_list:\n",
    "    if \"REPAIRED\" in file:\n",
    "        continue\n",
    "    if os.path.isfile(path+file):\n",
    "        os.remove(path+file)\n",
    "\n",
    "file_list = os.listdir(path)\n",
    "print(\"%d -> %d\"%(origin_len,len(file_list)))"
   ]
  },
  {
   "cell_type": "markdown",
   "id": "cc43b930",
   "metadata": {},
   "source": [
    "# Rename REPAIRED fiels"
   ]
  },
  {
   "cell_type": "code",
   "execution_count": 74,
   "id": "d4c76c07",
   "metadata": {},
   "outputs": [
    {
     "name": "stdout",
     "output_type": "stream",
     "text": [
      "['BINANCE_FLOWBUSD_1h.csv', 'BINANCE_CHZBUSD_1h.csv', 'BINANCE_EGLDBUSD_1h.csv', 'BINANCE_DOGEBUSD_1h.csv', 'BINANCE_DOTBUSD_1h.csv', 'BINANCE_GRTBUSD_1h.csv', 'BINANCE_AXSBUSD_1h.csv', 'BINANCE_XECBUSD_1h.csv', 'BINANCE_THETABUSD_1h.csv', 'BINANCE_SHIBBUSD_1h.csv', 'BINANCE_WBTCBUSD_1h.csv', 'BINANCE_FILBUSD_1h.csv', 'BINANCE_AVAXBUSD_1h.csv', 'BINANCE_MANABUSD_1h.csv', 'BINANCE_FTTBUSD_1h.csv', 'BINANCE_LUNCBUSD_1h.csv', 'BINANCE_APEBUSD_1h.csv', 'BINANCE_AAVEBUSD_1h.csv', 'BINANCE_CAKEBUSD_1h.csv', 'BINANCE_LUNABUSD_1h.csv', 'BINANCE_QNTBUSD_1h.csv', 'BINANCE_SANDBUSD_1h.csv', 'BINANCE_ICPBUSD_1h.csv', 'BINANCE_NEARBUSD_1h.csv', 'BINANCE_UNIBUSD_1h.csv', 'BINANCE_IOTABUSD_1h.csv', 'BINANCE_HNTBUSD_1h.csv', 'BINANCE_MKRBUSD_1h.csv']\n"
     ]
    }
   ],
   "source": [
    "path = \"../data1/\"\n",
    "file_list = os.listdir(path)\n",
    "\n",
    "for file in file_list:\n",
    "    if \"REPAIRED\" not in file:\n",
    "        continue\n",
    "    new_file_name = \"_\".join(file.split(\".\")[0].split(\"_\")[:-1])+\".csv\"\n",
    "    if os.path.isfile(path+file):\n",
    "        os.rename(path+file, path+new_file_name)\n",
    "file_list = os.listdir(path)\n",
    "print(file_list)"
   ]
  },
  {
   "cell_type": "code",
   "execution_count": null,
   "id": "a2b0349d",
   "metadata": {},
   "outputs": [],
   "source": [
    "path = \"../data1/\"\n",
    "file_list = file_diff_pass\n",
    "for file in file_list:\n",
    "    file_origin=\"_\".join(file.split(\".\")[0].split(\"_\")[:-1])+\".csv\"\n",
    "    if os.path.isfile(path+file):\n",
    "        os.remove(path+file)\n",
    "    if os.path.isfile(path+file_origin):\n",
    "        os.remove(path+file_origin)"
   ]
  },
  {
   "cell_type": "markdown",
   "id": "b5e5adb1",
   "metadata": {},
   "source": [
    "# Refetch Symbols"
   ]
  },
  {
   "cell_type": "code",
   "execution_count": 4,
   "id": "ae3529bc",
   "metadata": {},
   "outputs": [],
   "source": [
    "file_complete = \"./file_diff_pass.txt\"\n",
    "file_origin_ = \"./Selected Symbols.txt\"\n",
    "\n",
    "fc=open(file_complete,'r')\n",
    "fo=open(file_origin_,'r')\n",
    "sub_set = set([line[:-1].split(\"_\")[1][:-4]+\"/BUSD\" for line in fc.readlines()])\n",
    "super_set = set([line[1:-3] for line in fo.readlines()])"
   ]
  },
  {
   "cell_type": "code",
   "execution_count": 5,
   "id": "e3ce3e32",
   "metadata": {},
   "outputs": [
    {
     "data": {
      "text/plain": [
       "(11,\n",
       " {\"'CELR/BUSD\",\n",
       "  \"'CTSI/BUS\",\n",
       "  \"'DYDX/BUSD\",\n",
       "  \"'GMX/BUSD\",\n",
       "  \"'IMX/BUSD\",\n",
       "  \"'LRC/BUSD\",\n",
       "  \"'MATIC/BUSD\",\n",
       "  \"'OMG/BUSD\",\n",
       "  \"'PERP/BUSD\",\n",
       "  \"'SNX/BUSD\",\n",
       "  \"'ZRX/BUSD\"})"
      ]
     },
     "execution_count": 5,
     "metadata": {},
     "output_type": "execute_result"
    }
   ],
   "source": [
    "symbol_refetch = super_set - sub_set\n",
    "len(symbol_refetch), symbol_refetch\n"
   ]
  },
  {
   "cell_type": "code",
   "execution_count": 12,
   "id": "7c2d6871",
   "metadata": {},
   "outputs": [],
   "source": [
    "with open(\"Selected Symbols.txt\", 'w') as f:\n",
    "    for symbol in symbol_refetch:\n",
    "        f.write(\"\\\"%s\\\",\\n\"%symbol)"
   ]
  }
 ],
 "metadata": {
  "kernelspec": {
   "display_name": "Python 3.9.13 ('base')",
   "language": "python",
   "name": "python3"
  },
  "language_info": {
   "codemirror_mode": {
    "name": "ipython",
    "version": 3
   },
   "file_extension": ".py",
   "mimetype": "text/x-python",
   "name": "python",
   "nbconvert_exporter": "python",
   "pygments_lexer": "ipython3",
   "version": "3.9.13"
  },
  "vscode": {
   "interpreter": {
    "hash": "40d3a090f54c6569ab1632332b64b2c03c39dcf918b08424e98f38b5ae0af88f"
   }
  }
 },
 "nbformat": 4,
 "nbformat_minor": 5
}
