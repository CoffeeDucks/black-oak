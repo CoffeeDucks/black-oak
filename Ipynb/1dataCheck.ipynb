{
 "cells": [
  {
   "cell_type": "code",
   "execution_count": 6,
   "id": "a9e2fd01-89b2-45ee-b27a-0fd0c2615c09",
   "metadata": {},
   "outputs": [],
   "source": [
    "import os\n",
    "import pandas as pd\n",
    "import datetime\n",
    "from collections import defaultdict"
   ]
  },
  {
   "cell_type": "markdown",
   "id": "8160d6bd",
   "metadata": {},
   "source": [
    "# Check Entire Data"
   ]
  },
  {
   "cell_type": "markdown",
   "id": "fc7e7ef4",
   "metadata": {},
   "source": [
    "#### Folder\n",
    " - \"../data_backup/\": Top 50 marketcap  \n",
    " - \"../data/\": BTC/BUSD\n"
   ]
  },
  {
   "cell_type": "markdown",
   "id": "ea5c83fd",
   "metadata": {},
   "source": [
    "### Test Count"
   ]
  },
  {
   "cell_type": "code",
   "execution_count": 7,
   "id": "0a82adaf",
   "metadata": {},
   "outputs": [
    {
     "name": "stdout",
     "output_type": "stream",
     "text": [
      "(4380, 6)\n",
      "(4380, 6)\n",
      "(43, 6)\n",
      "   Over -   2\n",
      "  Short -   1\n",
      "  Total -   3\n"
     ]
    }
   ],
   "source": [
    "path = \"../data/\"\n",
    "file_list = os.listdir(path)\n",
    "\n",
    "count_shape=defaultdict(int)\n",
    "\n",
    "file_shape_short = []\n",
    "file_shape_normal = []\n",
    "file_shape_over = []\n",
    "m6,y1,y2=4344,17520//2,17520\n",
    "cnt=m6\n",
    "\n",
    "for file in file_list:\n",
    "    if \".csv\" not in file:\n",
    "        continue\n",
    "    # if \"REPAIRED\" not in file:\n",
    "    #     continue\n",
    "\n",
    "    df=pd.read_csv(path+file, names=['datetime', 'open', 'high', 'low', 'close', 'volume'])\n",
    "\n",
    "    if df.shape[0] < cnt:\n",
    "        count_shape[\"Short\"]+=1\n",
    "        file_shape_short.append(file)\n",
    "\n",
    "    if df.shape[0] == cnt:\n",
    "        count_shape[\"Normal\"]+=1\n",
    "        file_shape_normal.append(file)\n",
    "\n",
    "    if df.shape[0] > cnt:\n",
    "        count_shape[\"Over\"]+=1\n",
    "        file_shape_over.append(file)\n",
    "    print(df.shape)\n",
    "\n",
    "\n",
    "# Print Result\n",
    "for k,v in count_shape.items():\n",
    "    print(\"%7s - %3d\"%(k,v))\n",
    "print(\"%7s - %3d\"%(\"Total\",len(file_list)))"
   ]
  },
  {
   "cell_type": "markdown",
   "id": "c1e86aad",
   "metadata": {},
   "source": [
    "### Test Duplicate"
   ]
  },
  {
   "cell_type": "code",
   "execution_count": 8,
   "id": "0a82adaf",
   "metadata": {},
   "outputs": [
    {
     "name": "stdout",
     "output_type": "stream",
     "text": [
      "   Fail -   2\n",
      "  Total -   2\n"
     ]
    }
   ],
   "source": [
    "file_list = file_shape_over + file_shape_normal\n",
    "\n",
    "count_duplicate=defaultdict(int)\n",
    "\n",
    "file_duplicate_pass = []\n",
    "file_duplicate_fail = []\n",
    "\n",
    "for file in file_list:\n",
    "\n",
    "    df=pd.read_csv(path+file, names=['datetime', 'open', 'high', 'low', 'close', 'volume'])\n",
    "\n",
    "    if df[df.duplicated(['datetime'])].shape[0]:\n",
    "        count_duplicate[\"Pass\"]+=1\n",
    "        file_duplicate_pass.append(file)\n",
    "\n",
    "    else:\n",
    "        count_duplicate[\"Fail\"]+=1\n",
    "        file_duplicate_fail.append(file)\n",
    "\n",
    "# Print Result\n",
    "for k,v in count_duplicate.items():\n",
    "    print(\"%7s - %3d\"%(k,v))\n",
    "print(\"%7s - %3d\"%(\"Total\",len(file_list)))\n",
    "#  Fail -  22\n",
    "#  Total -  22"
   ]
  },
  {
   "cell_type": "markdown",
   "id": "b6c6d715",
   "metadata": {},
   "source": [
    "### Test Diff"
   ]
  },
  {
   "cell_type": "code",
   "execution_count": 9,
   "id": "c6870493",
   "metadata": {},
   "outputs": [
    {
     "name": "stdout",
     "output_type": "stream",
     "text": [
      "(4118, 6)\n",
      "(4344, 6)\n",
      "   Pass -   1\n",
      "  Total -   2\n"
     ]
    }
   ],
   "source": [
    "file_list = file_duplicate_fail\n",
    "\n",
    "count_diff=defaultdict(int)\n",
    "\n",
    "file_diff_short = []\n",
    "file_diff_normal = []\n",
    "file_diff_over = []\n",
    "\n",
    "file_diff_pass = []\n",
    "file_diff_fail = []\n",
    "\n",
    "\n",
    "for file in file_list:\n",
    "\n",
    "    df=pd.read_csv(path+file, names=['datetime', 'open', 'high', 'low', 'close', 'volume'])\n",
    "    # Resolve Duplicate\n",
    "    df.drop_duplicates(\"datetime\",inplace=True)\n",
    "    \n",
    "    df=df[df['datetime']<1656633600000]\n",
    "    print(df.shape)\n",
    "    if df.shape[0] < cnt:\n",
    "        file_diff_short.append(file)\n",
    "        continue\n",
    "\n",
    "    elif df.shape[0] == cnt:\n",
    "        file_diff_normal.append(file)\n",
    "        \n",
    "    else:\n",
    "        file_diff_over.append(file)\n",
    "        continue\n",
    "\n",
    "    df.sort_values(by=['datetime'],inplace=True)\n",
    "    df['diff']=df['datetime'].diff()\n",
    "\n",
    "    if df[df['diff'] != 3600000.0].shape[0] < 2: # normal\n",
    "        count_diff[\"Pass\"]+=1\n",
    "        file_diff_pass.append(file)\n",
    "    else:\n",
    "        count_diff[\"Fail\"]+=1\n",
    "        file_diff_fail.append(file)\n",
    "\n",
    "# Print Result\n",
    "for k,v in count_diff.items():\n",
    "    print(\"%7s - %3d\"%(k,v))\n",
    "print(\"%7s - %3d\"%(\"Total\",len(file_list)))"
   ]
  },
  {
   "cell_type": "code",
   "execution_count": 10,
   "id": "802876e4",
   "metadata": {},
   "outputs": [],
   "source": [
    "with open(\"file_diff_pass.txt\", 'w') as f:\n",
    "    for symbol in file_diff_pass:\n",
    "        f.write(\"%s\\n\"%symbol)"
   ]
  },
  {
   "cell_type": "markdown",
   "id": "23e40219",
   "metadata": {},
   "source": [
    "# Check Single File"
   ]
  },
  {
   "cell_type": "code",
   "execution_count": 61,
   "id": "378e1d45",
   "metadata": {},
   "outputs": [
    {
     "data": {
      "text/html": [
       "<div>\n",
       "<style scoped>\n",
       "    .dataframe tbody tr th:only-of-type {\n",
       "        vertical-align: middle;\n",
       "    }\n",
       "\n",
       "    .dataframe tbody tr th {\n",
       "        vertical-align: top;\n",
       "    }\n",
       "\n",
       "    .dataframe thead th {\n",
       "        text-align: right;\n",
       "    }\n",
       "</style>\n",
       "<table border=\"1\" class=\"dataframe\">\n",
       "  <thead>\n",
       "    <tr style=\"text-align: right;\">\n",
       "      <th></th>\n",
       "      <th>datetime</th>\n",
       "      <th>open</th>\n",
       "      <th>high</th>\n",
       "      <th>low</th>\n",
       "      <th>close</th>\n",
       "      <th>volume</th>\n",
       "      <th>diff</th>\n",
       "    </tr>\n",
       "  </thead>\n",
       "  <tbody>\n",
       "    <tr>\n",
       "      <th>0</th>\n",
       "      <td>2022-01-01 00:00:00</td>\n",
       "      <td>4.870</td>\n",
       "      <td>5.022</td>\n",
       "      <td>4.870</td>\n",
       "      <td>4.995</td>\n",
       "      <td>19904.4</td>\n",
       "      <td>NaT</td>\n",
       "    </tr>\n",
       "    <tr>\n",
       "      <th>1</th>\n",
       "      <td>2022-01-01 01:00:00</td>\n",
       "      <td>4.992</td>\n",
       "      <td>5.112</td>\n",
       "      <td>4.974</td>\n",
       "      <td>5.074</td>\n",
       "      <td>14525.3</td>\n",
       "      <td>0 days 01:00:00</td>\n",
       "    </tr>\n",
       "    <tr>\n",
       "      <th>2</th>\n",
       "      <td>2022-01-01 02:00:00</td>\n",
       "      <td>5.082</td>\n",
       "      <td>5.153</td>\n",
       "      <td>5.070</td>\n",
       "      <td>5.133</td>\n",
       "      <td>12909.5</td>\n",
       "      <td>0 days 01:00:00</td>\n",
       "    </tr>\n",
       "    <tr>\n",
       "      <th>3</th>\n",
       "      <td>2022-01-01 03:00:00</td>\n",
       "      <td>5.133</td>\n",
       "      <td>5.148</td>\n",
       "      <td>5.100</td>\n",
       "      <td>5.100</td>\n",
       "      <td>14523.2</td>\n",
       "      <td>0 days 01:00:00</td>\n",
       "    </tr>\n",
       "    <tr>\n",
       "      <th>4</th>\n",
       "      <td>2022-01-01 04:00:00</td>\n",
       "      <td>5.109</td>\n",
       "      <td>5.181</td>\n",
       "      <td>5.029</td>\n",
       "      <td>5.066</td>\n",
       "      <td>21097.8</td>\n",
       "      <td>0 days 01:00:00</td>\n",
       "    </tr>\n",
       "    <tr>\n",
       "      <th>...</th>\n",
       "      <td>...</td>\n",
       "      <td>...</td>\n",
       "      <td>...</td>\n",
       "      <td>...</td>\n",
       "      <td>...</td>\n",
       "      <td>...</td>\n",
       "      <td>...</td>\n",
       "    </tr>\n",
       "    <tr>\n",
       "      <th>4339</th>\n",
       "      <td>2022-06-30 19:00:00</td>\n",
       "      <td>0.831</td>\n",
       "      <td>0.837</td>\n",
       "      <td>0.828</td>\n",
       "      <td>0.834</td>\n",
       "      <td>14504.6</td>\n",
       "      <td>0 days 01:00:00</td>\n",
       "    </tr>\n",
       "    <tr>\n",
       "      <th>4340</th>\n",
       "      <td>2022-06-30 20:00:00</td>\n",
       "      <td>0.833</td>\n",
       "      <td>0.837</td>\n",
       "      <td>0.822</td>\n",
       "      <td>0.830</td>\n",
       "      <td>25038.0</td>\n",
       "      <td>0 days 01:00:00</td>\n",
       "    </tr>\n",
       "    <tr>\n",
       "      <th>4341</th>\n",
       "      <td>2022-06-30 21:00:00</td>\n",
       "      <td>0.831</td>\n",
       "      <td>0.838</td>\n",
       "      <td>0.831</td>\n",
       "      <td>0.833</td>\n",
       "      <td>14648.2</td>\n",
       "      <td>0 days 01:00:00</td>\n",
       "    </tr>\n",
       "    <tr>\n",
       "      <th>4342</th>\n",
       "      <td>2022-06-30 22:00:00</td>\n",
       "      <td>0.833</td>\n",
       "      <td>0.845</td>\n",
       "      <td>0.828</td>\n",
       "      <td>0.839</td>\n",
       "      <td>11867.4</td>\n",
       "      <td>0 days 01:00:00</td>\n",
       "    </tr>\n",
       "    <tr>\n",
       "      <th>4343</th>\n",
       "      <td>2022-06-30 23:00:00</td>\n",
       "      <td>0.840</td>\n",
       "      <td>0.862</td>\n",
       "      <td>0.826</td>\n",
       "      <td>0.862</td>\n",
       "      <td>37142.8</td>\n",
       "      <td>0 days 01:00:00</td>\n",
       "    </tr>\n",
       "  </tbody>\n",
       "</table>\n",
       "<p>4344 rows × 7 columns</p>\n",
       "</div>"
      ],
      "text/plain": [
       "                datetime   open   high    low  close   volume            diff\n",
       "0    2022-01-01 00:00:00  4.870  5.022  4.870  4.995  19904.4             NaT\n",
       "1    2022-01-01 01:00:00  4.992  5.112  4.974  5.074  14525.3 0 days 01:00:00\n",
       "2    2022-01-01 02:00:00  5.082  5.153  5.070  5.133  12909.5 0 days 01:00:00\n",
       "3    2022-01-01 03:00:00  5.133  5.148  5.100  5.100  14523.2 0 days 01:00:00\n",
       "4    2022-01-01 04:00:00  5.109  5.181  5.029  5.066  21097.8 0 days 01:00:00\n",
       "...                  ...    ...    ...    ...    ...      ...             ...\n",
       "4339 2022-06-30 19:00:00  0.831  0.837  0.828  0.834  14504.6 0 days 01:00:00\n",
       "4340 2022-06-30 20:00:00  0.833  0.837  0.822  0.830  25038.0 0 days 01:00:00\n",
       "4341 2022-06-30 21:00:00  0.831  0.838  0.831  0.833  14648.2 0 days 01:00:00\n",
       "4342 2022-06-30 22:00:00  0.833  0.845  0.828  0.839  11867.4 0 days 01:00:00\n",
       "4343 2022-06-30 23:00:00  0.840  0.862  0.826  0.862  37142.8 0 days 01:00:00\n",
       "\n",
       "[4344 rows x 7 columns]"
      ]
     },
     "execution_count": 61,
     "metadata": {},
     "output_type": "execute_result"
    }
   ],
   "source": [
    "path = \"../data/\"\n",
    "\n",
    "file=\"BINANCE_CELOBUSD_1h.csv\"\n",
    "\n",
    "df=pd.read_csv(path+file, names=['datetime', 'open', 'high', 'low', 'close', 'volume'])\n",
    "df=df[df['datetime']<1656633600000]\n",
    "df['datetime']=df['datetime'].apply(lambda x: datetime.datetime.utcfromtimestamp(int(x/1000)))\n",
    "df['diff']=df['datetime'].diff()\n",
    "df"
   ]
  },
  {
   "cell_type": "markdown",
   "id": "f3dc8bc9",
   "metadata": {},
   "source": [
    "# DEPRECATED"
   ]
  },
  {
   "cell_type": "code",
   "execution_count": null,
   "id": "c3657825",
   "metadata": {},
   "outputs": [],
   "source": [
    "\n",
    "key_list=[\"Normal\",\"Abnormal\",\"Fail\", \"Duplicate\"]\n",
    "for key in key_list:\n",
    "    print(\"%8s:\\t%2d\"%(key, len(data_dict[key])))"
   ]
  },
  {
   "cell_type": "code",
   "execution_count": 29,
   "id": "fef77127-3fe3-4d69-adc1-b3fba8420546",
   "metadata": {},
   "outputs": [],
   "source": [
    "# for check data count\n",
    "start_date='20220101'\n",
    "end_date = '20220702'\n",
    "data_list=pd.date_range(start=start_date,end=end_date,freq='h')\n"
   ]
  }
 ],
 "metadata": {
  "kernelspec": {
   "display_name": "Python 3.9.13 ('base')",
   "language": "python",
   "name": "python3"
  },
  "language_info": {
   "codemirror_mode": {
    "name": "ipython",
    "version": 3
   },
   "file_extension": ".py",
   "mimetype": "text/x-python",
   "name": "python",
   "nbconvert_exporter": "python",
   "pygments_lexer": "ipython3",
   "version": "3.9.13"
  },
  "vscode": {
   "interpreter": {
    "hash": "40d3a090f54c6569ab1632332b64b2c03c39dcf918b08424e98f38b5ae0af88f"
   }
  }
 },
 "nbformat": 4,
 "nbformat_minor": 5
}
